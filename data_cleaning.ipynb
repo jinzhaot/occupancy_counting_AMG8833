{
 "cells": [
  {
   "cell_type": "code",
   "execution_count": 2,
   "metadata": {},
   "outputs": [],
   "source": [
    "import pandas as pd\n",
    "import numpy as np\n",
    "from tqdm import tqdm\n",
    "import os\n",
    "import random"
   ]
  },
  {
   "cell_type": "code",
   "execution_count": 2,
   "metadata": {},
   "outputs": [
    {
     "name": "stderr",
     "output_type": "stream",
     "text": [
      "100%|██████████| 83/83 [00:00<00:00, 3269.91it/s]\n"
     ]
    }
   ],
   "source": [
    "import os\n",
    "import numpy as np\n",
    "\n",
    "folder_path = '/Users/tianjinzhao/Desktop/12778/project/no'  # Replace with the actual folder path\n",
    "\n",
    "# Get a list of all text files in the folder\n",
    "file_list = [file for file in os.listdir(folder_path) if file.endswith('.txt')]\n",
    "\n",
    "# Initialize an empty list to store the reshaped arrays\n",
    "reshaped_arrays = []\n",
    "\n",
    "# Iterate over each file\n",
    "for file in tqdm(file_list):\n",
    "    file_path = os.path.join(folder_path, file)\n",
    "    \n",
    "    # Read the text file and reshape it into (-1, 8, 8)\n",
    "    array = np.loadtxt(file_path).reshape(-1, 8, 8)\n",
    "\n",
    "    # Append the reshaped array to the list\n",
    "    reshaped_arrays.append(array)\n",
    "\n",
    "# Concatenate all the reshaped arrays along the first axis\n",
    "no_array = np.concatenate(reshaped_arrays)\n"
   ]
  },
  {
   "cell_type": "code",
   "execution_count": 3,
   "metadata": {},
   "outputs": [
    {
     "name": "stderr",
     "output_type": "stream",
     "text": [
      "100%|██████████| 83/83 [00:00<00:00, 1472.36it/s]\n"
     ]
    }
   ],
   "source": [
    "import os\n",
    "import numpy as np\n",
    "\n",
    "folder_path = '/Users/tianjinzhao/Desktop/12778/project/no'  # Replace with the actual folder path\n",
    "\n",
    "# Get a list of all text files in the folder\n",
    "file_list = [file for file in os.listdir(folder_path) if file.endswith('.txt')]\n",
    "\n",
    "# Iterate over each file\n",
    "for file in tqdm(file_list):\n",
    "    file_path = os.path.join(folder_path, file)\n",
    "    \n",
    "    # Read the text file and reshape it into (-1, 8, 8)\n",
    "    array = np.loadtxt(file_path).reshape(-1, 8, 8)\n",
    "    if array.shape[0] < 10:\n",
    "        # duplicate the array twice\n",
    "        array = np.concatenate((array, array), axis=0)\n",
    "    # random select 10 arrays\n",
    "    array = array[np.random.choice(array.shape[0], 10, replace=False), :]\n",
    "    # save the array in no_clean_fill folder\n",
    "    np.savetxt('/Users/tianjinzhao/Desktop/12778/project/no_clean_fill/' + file, array.reshape(-1, 64), fmt='%d')"
   ]
  },
  {
   "cell_type": "code",
   "execution_count": 11,
   "metadata": {},
   "outputs": [
    {
     "data": {
      "text/plain": [
       "0"
      ]
     },
     "execution_count": 11,
     "metadata": {},
     "output_type": "execute_result"
    }
   ],
   "source": [
    "random.randint(0,1)"
   ]
  },
  {
   "cell_type": "code",
   "execution_count": 15,
   "metadata": {},
   "outputs": [
    {
     "name": "stderr",
     "output_type": "stream",
     "text": [
      "100%|██████████| 97/97 [00:00<00:00, 1793.37it/s]\n"
     ]
    }
   ],
   "source": [
    "folder_path = '/Users/tianjinzhao/Desktop/12778/project/in_clean'  # Replace with the actual folder path\n",
    "folder_path_2 = '/Users/tianjinzhao/Desktop/12778/project/out_clean'\n",
    "\n",
    "# Get a list of all text files in the folder\n",
    "file_list = [file for file in os.listdir(folder_path) if file.endswith('.txt')]\n",
    "\n",
    "# Iterate over each file\n",
    "for file in tqdm(file_list):\n",
    "    file_path = os.path.join(folder_path, file)\n",
    "    \n",
    "    # Read the text file and reshape it into (-1, 8, 8)\n",
    "    array = np.loadtxt(file_path).reshape(-1, 8, 8)\n",
    "    \n",
    "    # Reverse the array\n",
    "    array = array[::-1]\n",
    "        \n",
    "    # Save the array to the new folder\n",
    "    new_file_path = os.path.join(folder_path_2, file)\n",
    "    np.savetxt(new_file_path, array.reshape(-1, 64), fmt='%d')"
   ]
  },
  {
   "cell_type": "code",
   "execution_count": 37,
   "metadata": {},
   "outputs": [
    {
     "name": "stderr",
     "output_type": "stream",
     "text": [
      "  0%|          | 0/97 [00:00<?, ?it/s]"
     ]
    },
    {
     "name": "stderr",
     "output_type": "stream",
     "text": [
      "100%|██████████| 97/97 [00:00<00:00, 587.33it/s]\n"
     ]
    }
   ],
   "source": [
    "# FILEPATH: /Users/tianjinzhao/Desktop/12778/project/create_data_tree_3.ipynb\n",
    "folder_path = '/Users/tianjinzhao/Desktop/12778/project/in_clean'  # Replace with the actual folder path\n",
    "folder_path_2 = '/Users/tianjinzhao/Desktop/12778/project/in_clean_fill_2'\n",
    "\n",
    "# remove the files in the folder_path_2\n",
    "file_list = [file for file in os.listdir(folder_path_2) if file.endswith('.txt')]\n",
    "for file in file_list:\n",
    "    os.remove(os.path.join(folder_path_2, file))\n",
    "\n",
    "# create the floder base on floder_path_2\n",
    "if not os.path.exists(folder_path_2):\n",
    "    os.makedirs(folder_path_2)\n",
    "\n",
    "# Get a list of all text files in the folder\n",
    "file_list = [file for file in os.listdir(folder_path) if file.endswith('.txt')]\n",
    "\n",
    "# Iterate over each file\n",
    "for file in tqdm(file_list):\n",
    "    file_path = os.path.join(folder_path, file)\n",
    "    \n",
    "    # Read the text file and reshape it into (-1, 8, 8)\n",
    "    array = np.loadtxt(file_path).reshape(-1, 8, 8)\n",
    "    if array.shape[0] < 10:\n",
    "        fill_num = 10 - array.shape[0]\n",
    "        \n",
    "        # Generate all combinations of top_n and last_n such that top_n + last_n = fill_num\n",
    "        combinations = []\n",
    "        for i in range(fill_num):  # Range is from 0 to fill_num\n",
    "            for j in range(fill_num):\n",
    "                if i + j == fill_num:\n",
    "                    combinations.append((i, j))\n",
    "        \n",
    "        for top_n, last_n in combinations:\n",
    "            # random select one array from the no_array and concatenate it with the array\n",
    "            no_fill_top = no_array[np.random.choice(no_array.shape[0], top_n, replace=False), :]\n",
    "            no_fill_end = no_array[np.random.choice(no_array.shape[0], last_n, replace=False), :]\n",
    "            new_array = np.concatenate((no_fill_top, array, no_fill_end), axis=0)\n",
    "            \n",
    "            # Save the new array to the new folder\n",
    "            new_file_path = os.path.join(folder_path_2, f\"{file}_{top_n}_{last_n}.txt\")\n",
    "            np.savetxt(new_file_path, new_array.reshape(-1, 64), fmt='%d')\n",
    "            # horizontal flip the array and save it to the new folder\n",
    "            new_array = np.flip(new_array, axis=2)\n",
    "            new_file_path = os.path.join(folder_path_2, f\"{file}_{top_n}_{last_n}_flip.txt\")\n",
    "            np.savetxt(new_file_path, new_array.reshape(-1, 64), fmt='%d')\n",
    "            \n",
    "    elif array.shape[0] > 10:\n",
    "        new_array = array[:10]\n",
    "        # Save the array to the new folder\n",
    "        new_file_path = os.path.join(folder_path_2, file)\n",
    "        np.savetxt(new_file_path, new_array.reshape(-1, 64), fmt='%d')\n",
    "        # horizontal flip the array and save it to the new folder\n",
    "        new_array = np.flip(new_array, axis=2)\n",
    "        new_file_path = os.path.join(folder_path_2, f\"{file}_flip.txt\")\n",
    "        np.savetxt(new_file_path, new_array.reshape(-1, 64), fmt='%d')"
   ]
  },
  {
   "cell_type": "code",
   "execution_count": 38,
   "metadata": {},
   "outputs": [
    {
     "name": "stderr",
     "output_type": "stream",
     "text": [
      "  0%|          | 0/97 [00:00<?, ?it/s]"
     ]
    },
    {
     "name": "stderr",
     "output_type": "stream",
     "text": [
      "100%|██████████| 97/97 [00:00<00:00, 444.17it/s]\n"
     ]
    }
   ],
   "source": [
    "\n",
    "\n",
    "# FILEPATH: /Users/tianjinzhao/Desktop/12778/project/create_data_tree_3.ipynb\n",
    "folder_path = '/Users/tianjinzhao/Desktop/12778/project/out_clean'  # Replace with the actual folder path\n",
    "folder_path_2 = '/Users/tianjinzhao/Desktop/12778/project/out_clean_fill_2'\n",
    "\n",
    "file_list = [file for file in os.listdir(folder_path_2) if file.endswith('.txt')]\n",
    "for file in file_list:\n",
    "    os.remove(os.path.join(folder_path_2, file))\n",
    "\n",
    "# create the floder base on floder_path_2\n",
    "if not os.path.exists(folder_path_2):\n",
    "    os.makedirs(folder_path_2)\n",
    "\n",
    "# Get a list of all text files in the folder\n",
    "file_list = [file for file in os.listdir(folder_path) if file.endswith('.txt')]\n",
    "\n",
    "# Iterate over each file\n",
    "for file in tqdm(file_list):\n",
    "    file_path = os.path.join(folder_path, file)\n",
    "    \n",
    "    # Read the text file and reshape it into (-1, 8, 8)\n",
    "    array = np.loadtxt(file_path).reshape(-1, 8, 8)\n",
    "    if array.shape[0] < 10:\n",
    "        fill_num = 10 - array.shape[0]\n",
    "        \n",
    "        # Generate all combinations of top_n and last_n such that top_n + last_n = fill_num\n",
    "        combinations = []\n",
    "        for i in range(fill_num):  # Range is from 0 to fill_num\n",
    "            for j in range(fill_num):\n",
    "                if i + j == fill_num:\n",
    "                    combinations.append((i, j))\n",
    "        \n",
    "        for top_n, last_n in combinations:\n",
    "            # random select one array from the no_array and concatenate it with the array\n",
    "            no_fill_top = no_array[np.random.choice(no_array.shape[0], top_n, replace=False), :]\n",
    "            no_fill_end = no_array[np.random.choice(no_array.shape[0], last_n, replace=False), :]\n",
    "            new_array = np.concatenate((no_fill_top, array, no_fill_end), axis=0)\n",
    "            \n",
    "            # Save the new array to the new folder\n",
    "            new_file_path = os.path.join(folder_path_2, f\"{file}_{top_n}_{last_n}.txt\")\n",
    "            np.savetxt(new_file_path, new_array.reshape(-1, 64), fmt='%d')\n",
    "            # horizontal flip the array and save it to the new folder\n",
    "            new_array = np.flip(new_array, axis=2)\n",
    "            new_file_path = os.path.join(folder_path_2, f\"{file}_{top_n}_{last_n}_flip.txt\")\n",
    "            np.savetxt(new_file_path, new_array.reshape(-1, 64), fmt='%d')\n",
    "            \n",
    "    elif array.shape[0] > 10:\n",
    "        new_array = array[:10]\n",
    "        # Save the array to the new folder\n",
    "        new_file_path = os.path.join(folder_path_2, file)\n",
    "        np.savetxt(new_file_path, new_array.reshape(-1, 64), fmt='%d')\n",
    "        # horizontal flip the array and save it to the new folder\n",
    "        new_array = np.flip(new_array, axis=2)\n",
    "        new_file_path = os.path.join(folder_path_2, f\"{file}_flip.txt\")\n",
    "        np.savetxt(new_file_path, new_array.reshape(-1, 64), fmt='%d')"
   ]
  },
  {
   "cell_type": "code",
   "execution_count": 3,
   "metadata": {},
   "outputs": [
    {
     "name": "stderr",
     "output_type": "stream",
     "text": [
      "100%|██████████| 488/488 [00:00<00:00, 1421.51it/s]\n"
     ]
    }
   ],
   "source": [
    "folder_path = '/Users/tianjinzhao/Desktop/12778/project/in_clean_fill_2'  # Replace with the actual folder path\n",
    "folder_path_2 = '/Users/tianjinzhao/Desktop/12778/project/in_clean_fill_norm_2'\n",
    "\n",
    "# create a folder based on folder_path_2\n",
    "if not os.path.exists(folder_path_2):\n",
    "    os.makedirs(folder_path_2)\n",
    "\n",
    "file_list = [file for file in os.listdir(folder_path_2) if file.endswith('.txt')]\n",
    "for file in file_list:\n",
    "    os.remove(os.path.join(folder_path_2, file))\n",
    "    \n",
    "# create the floder base on floder_path_2\n",
    "if not os.path.exists(folder_path_2):\n",
    "    os.makedirs(folder_path_2)\n",
    "\n",
    "# Get a list of all text files in the folder\n",
    "file_list = [file for file in os.listdir(folder_path) if file.endswith('.txt')]\n",
    "\n",
    "# Iterate over each file\n",
    "for file in tqdm(file_list):\n",
    "    file_path = os.path.join(folder_path, file)\n",
    "    \n",
    "    # Read the text file and reshape it into (-1, 8, 8)\n",
    "    array = np.loadtxt(file_path).reshape(-1, 8, 8)\n",
    "    # Min-max normalization\n",
    "    array = (array - array.min()) / (array.max() - array.min() + 1e-8)\n",
    "    # # Sum the arry per row\n",
    "    # array_0 = array.sum(axis=1)        \n",
    "# Save the array to the new folder\n",
    "    new_file_path = os.path.join(folder_path_2, file)\n",
    "    np.savetxt(new_file_path, array.reshape(-1), fmt='%1.3f')"
   ]
  },
  {
   "cell_type": "code",
   "execution_count": 10,
   "metadata": {},
   "outputs": [
    {
     "name": "stderr",
     "output_type": "stream",
     "text": [
      "  0%|          | 0/83 [00:00<?, ?it/s]"
     ]
    },
    {
     "name": "stderr",
     "output_type": "stream",
     "text": [
      "100%|██████████| 83/83 [00:00<00:00, 507.61it/s]\n"
     ]
    }
   ],
   "source": [
    "folder_path = '/Users/tianjinzhao/Desktop/12778/project/no_clean_fill'  # Replace with the actual folder path\n",
    "folder_path_2 = '/Users/tianjinzhao/Desktop/12778/project/no_clean_fill_norm_2'\n",
    "# remove the files in the folder_path_2\n",
    "file_list = [file for file in os.listdir(folder_path_2) if file.endswith('.txt')]\n",
    "for file in file_list:\n",
    "    os.remove(os.path.join(folder_path_2, file))\n",
    "\n",
    "# create the floder base on floder_path_2\n",
    "if not os.path.exists(folder_path_2):\n",
    "    os.makedirs(folder_path_2)\n",
    "\n",
    "# Get a list of all text files in the folder\n",
    "file_list = [file for file in os.listdir(folder_path) if file.endswith('.txt')]\n",
    "\n",
    "# Iterate over each file\n",
    "for file in tqdm(file_list):\n",
    "    file_path = os.path.join(folder_path, file)\n",
    "    \n",
    "    # Read the text file and reshape it into (-1, 8, 8)\n",
    "    array = np.loadtxt(file_path).reshape(-1, 8, 8)\n",
    "    # Min-max normalization\n",
    "    array = (array - array.min()) / (array.max() - array.min() + 1e-8)   \n",
    "    # Save the array to the new folder\n",
    "    new_file_path = os.path.join(folder_path_2, file)\n",
    "    np.savetxt(new_file_path, array.reshape(-1), fmt='%1.3f')\n",
    "    # horizontally flip the array\n",
    "    new_array = np.flip(array, axis=2)\n",
    "    np.savetxt(os.path.join(folder_path_2, f'h_flip_{file}'), new_array.reshape(-1), fmt='%1.3f')\n",
    "    # reverse the array with the shape (10, 8, 8) on the first axis\n",
    "    new_array = array[::-1]\n",
    "    np.savetxt(os.path.join(folder_path_2, f'r_flip_{file}'), new_array.reshape(-1), fmt='%1.3f')"
   ]
  },
  {
   "cell_type": "code",
   "execution_count": 5,
   "metadata": {},
   "outputs": [
    {
     "name": "stderr",
     "output_type": "stream",
     "text": [
      "100%|██████████| 488/488 [00:00<00:00, 1368.84it/s]\n"
     ]
    }
   ],
   "source": [
    "folder_path = '/Users/tianjinzhao/Desktop/12778/project/out_clean_fill_2'  # Replace with the actual folder path\n",
    "folder_path_2 = '/Users/tianjinzhao/Desktop/12778/project/out_clean_fill_norm_2'\n",
    "\n",
    "# file_list = [file for file in os.listdir(folder_path_2) if file.endswith('.txt')]\n",
    "# for file in file_list:\n",
    "#     os.remove(os.path.join(folder_path_2, file))\n",
    "\n",
    "# create the floder base on floder_path_2\n",
    "if not os.path.exists(folder_path_2):\n",
    "    os.makedirs(folder_path_2)\n",
    "\n",
    "# Get a list of all text files in the folder\n",
    "file_list = [file for file in os.listdir(folder_path) if file.endswith('.txt')]\n",
    "\n",
    "# Iterate over each file\n",
    "for file in tqdm(file_list):\n",
    "    file_path = os.path.join(folder_path, file)\n",
    "    \n",
    "    # Read the text file and reshape it into (-1, 8, 8)\n",
    "    array = np.loadtxt(file_path).reshape(-1, 8, 8)\n",
    "    # Min-max normalization\n",
    "    array = (array - array.min()) / (array.max() - array.min() + 1e-8)\n",
    "    # Sum the arry per row\n",
    "    array_0 = array.sum(axis=1)        \n",
    "# Save the array to the new folder\n",
    "    new_file_path = os.path.join(folder_path_2, file)\n",
    "    np.savetxt(new_file_path, array.reshape(-1), fmt='%1.3f')"
   ]
  },
  {
   "cell_type": "code",
   "execution_count": 11,
   "metadata": {},
   "outputs": [],
   "source": [
    "import os\n",
    "\n",
    "# Define the paths to the folders\n",
    "in_final_folder = '/Users/tianjinzhao/Desktop/12778/project/in_final_2'\n",
    "out_final_folder = '/Users/tianjinzhao/Desktop/12778/project/out_final_2'\n",
    "no_final_folder = '/Users/tianjinzhao/Desktop/12778/project/no_final_2'\n",
    "\n",
    "# Function to remove all files in a folder\n",
    "def remove_files(folder_path):\n",
    "    file_list = os.listdir(folder_path)\n",
    "    for file in file_list:\n",
    "        file_path = os.path.join(folder_path, file)\n",
    "        os.remove(file_path)\n",
    "\n",
    "# Remove files in 'in_final' folder\n",
    "remove_files(in_final_folder)\n",
    "\n",
    "# Remove files in 'out_final' folder\n",
    "remove_files(out_final_folder)\n",
    "\n",
    "# Remove files in 'no_final' folder\n",
    "remove_files(no_final_folder)\n"
   ]
  },
  {
   "cell_type": "code",
   "execution_count": 12,
   "metadata": {},
   "outputs": [],
   "source": [
    "import os\n",
    "import pandas as pd\n",
    "\n",
    "# Replace 'input_folder' with the path to your input folder containing the text files\n",
    "input_folder = '/Users/tianjinzhao/Desktop/12778/project/in_clean_fill_norm_2'\n",
    "\n",
    "# Replace 'output_folder' with the path to your output folder where the CSV files will be saved\n",
    "output_folder = '/Users/tianjinzhao/Desktop/12778/project/in_final_2'\n",
    "# create a folder based on the output_folder\n",
    "if not os.path.exists(output_folder):\n",
    "    os.makedirs(output_folder)\n",
    "\n",
    "# Get a list of all text files in the input folder\n",
    "file_list = [file for file in os.listdir(input_folder) if file.endswith('.txt')]\n",
    "\n",
    "# Iterate over each file\n",
    "for i, file in enumerate(file_list):\n",
    "    file_path = os.path.join(input_folder, file)\n",
    "    \n",
    "    # Read the text file into a pandas DataFrame and set the column name as 'x'\n",
    "    df = pd.read_csv(file_path, delimiter='\\t', names=['x'])\n",
    "    # add a column called timestamp in the df iteration from 0 to the length of the df\n",
    "    df['timestamp'] = np.arange(len(df))\n",
    "    \n",
    "    output_file = 'in_' + str(i) + '.csv'\n",
    "    \n",
    "    # Save the DataFrame to a CSV file in the output folder\n",
    "    output_path = os.path.join(output_folder, output_file)\n",
    "    df.to_csv(output_path, index=False)\n"
   ]
  },
  {
   "cell_type": "code",
   "execution_count": 13,
   "metadata": {},
   "outputs": [],
   "source": [
    "import os\n",
    "import pandas as pd\n",
    "\n",
    "# Replace 'input_folder' with the path to your input folder containing the text files\n",
    "input_folder = '/Users/tianjinzhao/Desktop/12778/project/out_clean_fill_norm_2'\n",
    "\n",
    "# Replace 'output_folder' with the path to your output folder where the CSV files will be saved\n",
    "output_folder = '/Users/tianjinzhao/Desktop/12778/project/out_final_2'\n",
    "# create a folder based on the output_folder\n",
    "if not os.path.exists(output_folder):\n",
    "    os.makedirs(output_folder)\n",
    "\n",
    "# Get a list of all text files in the input folder\n",
    "file_list = [file for file in os.listdir(input_folder) if file.endswith('.txt')]\n",
    "\n",
    "# Iterate over each file\n",
    "for i, file in enumerate(file_list):\n",
    "    file_path = os.path.join(input_folder, file)\n",
    "    \n",
    "    # Read the text file into a pandas DataFrame and set the column name as 'x'\n",
    "    df = pd.read_csv(file_path, delimiter='\\t', names=['x'])\n",
    "    # add a column called timestamp in the df iteration from 0 to the length of the df\n",
    "    df['timestamp'] = np.arange(len(df))\n",
    "\n",
    "    output_file = 'out_' + str(i) + '.csv'\n",
    "    \n",
    "    # Save the DataFrame to a CSV file in the output folder\n",
    "    output_path = os.path.join(output_folder, output_file)\n",
    "    df.to_csv(output_path, index=False)"
   ]
  },
  {
   "cell_type": "code",
   "execution_count": 14,
   "metadata": {},
   "outputs": [],
   "source": [
    "import os\n",
    "import pandas as pd\n",
    "\n",
    "# Replace 'input_folder' with the path to your input folder containing the text files\n",
    "input_folder = '/Users/tianjinzhao/Desktop/12778/project/no_clean_fill_norm_2'\n",
    "\n",
    "# Replace 'output_folder' with the path to your output folder where the CSV files will be saved\n",
    "output_folder = '/Users/tianjinzhao/Desktop/12778/project/no_final_2'\n",
    "# create a folder based on the output_folder\n",
    "if not os.path.exists(output_folder):\n",
    "    os.makedirs(output_folder)\n",
    "\n",
    "# Get a list of all text files in the input folder\n",
    "file_list = [file for file in os.listdir(input_folder) if file.endswith('.txt')]\n",
    "\n",
    "# Iterate over each file\n",
    "for i, file in enumerate(file_list):\n",
    "    file_path = os.path.join(input_folder, file)\n",
    "    \n",
    "    # Read the text file into a pandas DataFrame and set the column name as 'x'\n",
    "    df = pd.read_csv(file_path, delimiter='\\t', names=['x'])\n",
    "    # add a column called timestamp in the df iteration from 0 to the length of the df\n",
    "    df['timestamp'] = np.arange(len(df))\n",
    "    \n",
    "    output_file = 'no_' + str(i) + '.csv'\n",
    "    \n",
    "    # Save the DataFrame to a CSV file in the output folder\n",
    "    output_path = os.path.join(output_folder, output_file)\n",
    "    df.to_csv(output_path, index=False)"
   ]
  },
  {
   "cell_type": "code",
   "execution_count": 15,
   "metadata": {},
   "outputs": [],
   "source": [
    "import os\n",
    "import pandas as pd\n",
    "\n",
    "# Replace 'input_folder' with the path to your input folder containing the text files\n",
    "input_folder = '/Users/tianjinzhao/Desktop/12778/project/no_small_room_fill'\n",
    "\n",
    "# Replace 'output_folder' with the path to your output folder where the CSV files will be saved\n",
    "output_folder = '/Users/tianjinzhao/Desktop/12778/project/no_final_small_room_2'\n",
    "\n",
    "#remove the files in the output_folder\n",
    "file_list = [file for file in os.listdir(output_folder) if file.endswith('.csv')]\n",
    "for file in file_list:\n",
    "    os.remove(os.path.join(output_folder, file))\n",
    "    \n",
    "# create a folder based on the output_folder\n",
    "if not os.path.exists(output_folder):\n",
    "    os.makedirs(output_folder)\n",
    "\n",
    "# Get a list of all text files in the input folder\n",
    "file_list = [file for file in os.listdir(input_folder) if file.endswith('.txt')]\n",
    "\n",
    "# Iterate over each file\n",
    "for i, file in enumerate(file_list):\n",
    "    file_path = os.path.join(input_folder, file)\n",
    "    \n",
    "    # Read the text file into a pandas DataFrame and set the column name as 'x'\n",
    "    df = pd.read_csv(file_path, delimiter='\\t', names=['x'])\n",
    "    # add a column called timestamp in the df iteration from 0 to the length of the df\n",
    "    df['timestamp'] = np.arange(len(df))\n",
    "    \n",
    "    output_file = 'no_small_room' + str(i) + '.csv'\n",
    "    \n",
    "    # Save the DataFrame to a CSV file in the output folder\n",
    "    output_path = os.path.join(output_folder, output_file)\n",
    "    df.to_csv(output_path, index=False)"
   ]
  },
  {
   "cell_type": "code",
   "execution_count": 16,
   "metadata": {},
   "outputs": [],
   "source": [
    "index = [  3,   4,   5,  10,  11,  12,  13,  18,  20,  21,  23,  25,  26,\n",
    "        28,  29,  30,  31,  35,  36,  53,  54,  65,  67,  74,  75,  76,\n",
    "        77,  81,  82,  83,  91,  92,  93,  99, 100, 114, 115, 116, 117,\n",
    "       123, 124, 127, 131, 132, 138, 139, 140, 142, 145, 147, 148, 154,\n",
    "       155, 157, 161, 164, 165, 172, 175, 176, 178, 179, 180, 186, 187,\n",
    "       188, 194, 195, 196, 201, 203, 204, 207, 211, 212, 214, 217, 219,\n",
    "       222, 227, 229, 232, 235, 243, 244, 245, 251, 252, 259, 260, 261,\n",
    "       264, 267, 271, 274, 281, 282, 297, 299, 300, 303, 309, 312, 314,\n",
    "       315, 323, 330, 332, 336, 338, 339, 341, 347, 362, 376, 378, 387,\n",
    "       388, 389, 394, 395, 396, 403, 404, 405, 409, 413, 414, 427, 428,\n",
    "       430, 431, 435, 436, 437, 438, 443, 444, 445, 450, 451, 452, 458,\n",
    "       459, 460, 461, 466, 467, 468, 473, 476, 484, 486, 490, 491, 499,\n",
    "       500, 501, 506, 507, 508, 509, 515, 516, 517, 521, 522, 524, 525,\n",
    "       531, 532, 536, 539, 540, 547, 548, 555, 561, 563, 565, 568, 571,\n",
    "       572, 576, 578, 580, 581, 586, 589, 594, 595, 596, 597, 601, 602,\n",
    "       603, 604, 605, 610, 611, 613, 619, 639]"
   ]
  },
  {
   "cell_type": "code",
   "execution_count": 17,
   "metadata": {},
   "outputs": [
    {
     "data": {
      "text/plain": [
       "203"
      ]
     },
     "execution_count": 17,
     "metadata": {},
     "output_type": "execute_result"
    }
   ],
   "source": [
    "len(index)"
   ]
  },
  {
   "cell_type": "code",
   "execution_count": 18,
   "metadata": {},
   "outputs": [],
   "source": [
    "import os\n",
    "\n",
    "# Define the paths to the folders\n",
    "in_final_imp_features_folder = '/Users/tianjinzhao/Desktop/12778/project/in_final_imp_features_2'\n",
    "no_final_imp_features_folder = '/Users/tianjinzhao/Desktop/12778/project/no_final_imp_features_2'\n",
    "out_final_imp_features_folder = '/Users/tianjinzhao/Desktop/12778/project/out_final_imp_features_2'\n",
    "\n",
    "# Function to remove all files in a folder\n",
    "def remove_files(folder_path):\n",
    "    file_list = os.listdir(folder_path)\n",
    "    for file in file_list:\n",
    "        file_path = os.path.join(folder_path, file)\n",
    "        os.remove(file_path)\n",
    "\n",
    "# Remove files in 'in_final_imp_features' folder\n",
    "remove_files(in_final_imp_features_folder)\n",
    "\n",
    "# Remove files in 'no_final_imp_features' folder\n",
    "remove_files(no_final_imp_features_folder)\n",
    "\n",
    "# Remove files in 'out_final_imp_features' folder\n",
    "remove_files(out_final_imp_features_folder)\n"
   ]
  },
  {
   "cell_type": "code",
   "execution_count": 19,
   "metadata": {},
   "outputs": [],
   "source": [
    "import os\n",
    "import pandas as pd\n",
    "\n",
    "# Define the paths to the folders\n",
    "in_final_folder = '/Users/tianjinzhao/Desktop/12778/project/in_final_2'\n",
    "in_final_imp_features_folder = '/Users/tianjinzhao/Desktop/12778/project/in_final_imp_features_2'\n",
    "\n",
    "os.makedirs(in_final_imp_features_folder, exist_ok=True)\n",
    "\n",
    "# Get a list of all CSV files in the 'in_final' folder\n",
    "file_list = [file for file in os.listdir(in_final_folder) if file.endswith('.csv')]\n",
    "\n",
    "# Iterate over each file\n",
    "for file in file_list:\n",
    "    file_path = os.path.join(in_final_folder, file)\n",
    "    \n",
    "    # Read the CSV file into a pandas DataFrame\n",
    "    df = pd.read_csv(file_path)\n",
    "    \n",
    "    # Select rows based on the index list\n",
    "    df_selected = df.loc[index]\n",
    "    \n",
    "    # Update the timesamp column\n",
    "    df_selected['timestamp'] = np.arange(len(df_selected))\n",
    "    \n",
    "    # Save the selected rows to a new CSV file in the new folder\n",
    "    new_file_path = os.path.join(in_final_imp_features_folder, file)\n",
    "    df_selected.to_csv(new_file_path, index=False)\n"
   ]
  },
  {
   "cell_type": "code",
   "execution_count": 20,
   "metadata": {},
   "outputs": [],
   "source": [
    "# Define the paths to the folders\n",
    "in_final_folder = '/Users/tianjinzhao/Desktop/12778/project/out_final_2'\n",
    "in_final_imp_features_folder = '/Users/tianjinzhao/Desktop/12778/project/out_final_imp_features_2'\n",
    "\n",
    "os.makedirs(in_final_imp_features_folder, exist_ok=True)\n",
    "\n",
    "# Get a list of all CSV files in the 'in_final' folder\n",
    "file_list = [file for file in os.listdir(in_final_folder) if file.endswith('.csv')]\n",
    "\n",
    "# Iterate over each file\n",
    "for file in file_list:\n",
    "    file_path = os.path.join(in_final_folder, file)\n",
    "    \n",
    "    # Read the CSV file into a pandas DataFrame\n",
    "    df = pd.read_csv(file_path)\n",
    "    \n",
    "    # Select rows based on the index list\n",
    "    df_selected = df.loc[index]\n",
    "    \n",
    "    # Update the timesamp column\n",
    "    df_selected['timestamp'] = np.arange(len(df_selected))\n",
    "    \n",
    "    # Save the selected rows to a new CSV file in the new folder\n",
    "    new_file_path = os.path.join(in_final_imp_features_folder, file)\n",
    "    df_selected.to_csv(new_file_path, index=False)"
   ]
  },
  {
   "cell_type": "code",
   "execution_count": 21,
   "metadata": {},
   "outputs": [],
   "source": [
    "# Define the paths to the folders\n",
    "in_final_folder = '/Users/tianjinzhao/Desktop/12778/project/no_final_2'\n",
    "in_final_imp_features_folder = '/Users/tianjinzhao/Desktop/12778/project/no_final_imp_features_2'\n",
    "\n",
    "os.makedirs(in_final_imp_features_folder, exist_ok=True)\n",
    "\n",
    "# Get a list of all CSV files in the 'in_final' folder\n",
    "file_list = [file for file in os.listdir(in_final_folder) if file.endswith('.csv')]\n",
    "\n",
    "# Iterate over each file\n",
    "for file in file_list:\n",
    "    file_path = os.path.join(in_final_folder, file)\n",
    "    \n",
    "    # Read the CSV file into a pandas DataFrame\n",
    "    df = pd.read_csv(file_path)\n",
    "    \n",
    "    # Select rows based on the index list\n",
    "    df_selected = df.loc[index]\n",
    "    \n",
    "    # Update the timesamp column\n",
    "    df_selected['timestamp'] = np.arange(len(df_selected))\n",
    "    \n",
    "    # Save the selected rows to a new CSV file in the new folder\n",
    "    new_file_path = os.path.join(in_final_imp_features_folder, file)\n",
    "    df_selected.to_csv(new_file_path, index=False)"
   ]
  },
  {
   "cell_type": "code",
   "execution_count": 22,
   "metadata": {},
   "outputs": [],
   "source": [
    "# Define the paths to the folders\n",
    "in_final_folder = '/Users/tianjinzhao/Desktop/12778/project/no_final_small_room_2'\n",
    "in_final_imp_features_folder = '/Users/tianjinzhao/Desktop/12778/project/no_final_small_room_imp_features_2'\n",
    "\n",
    "os.makedirs(in_final_imp_features_folder, exist_ok=True)\n",
    "\n",
    "# Get a list of all CSV files in the 'in_final' folder\n",
    "file_list = [file for file in os.listdir(in_final_folder) if file.endswith('.csv')]\n",
    "\n",
    "# Iterate over each file\n",
    "for file in file_list:\n",
    "    file_path = os.path.join(in_final_folder, file)\n",
    "    \n",
    "    # Read the CSV file into a pandas DataFrame\n",
    "    df = pd.read_csv(file_path)\n",
    "    \n",
    "    # Select rows based on the index list\n",
    "    df_selected = df.loc[index]\n",
    "    \n",
    "    # Update the timesamp column\n",
    "    df_selected['timestamp'] = np.arange(len(df_selected))\n",
    "    \n",
    "    # Save the selected rows to a new CSV file in the new folder\n",
    "    new_file_path = os.path.join(in_final_imp_features_folder, file)\n",
    "    df_selected.to_csv(new_file_path, index=False)"
   ]
  },
  {
   "cell_type": "code",
   "execution_count": null,
   "metadata": {},
   "outputs": [],
   "source": []
  },
  {
   "cell_type": "code",
   "execution_count": null,
   "metadata": {},
   "outputs": [],
   "source": [
    "import pandas as pd\n",
    "\n",
    "# Replace 'csv_file_path' with the actual path to your CSV file\n",
    "csv_file_path = '/path/to/in_final.csv'\n",
    "\n",
    "# Read the CSV file into a pandas DataFrame\n",
    "df = pd.read_csv(csv_file_path)\n",
    "\n",
    "# Replace 'index' with your index list\n",
    "index = [3, 7, 9, 15, 16, 23, 24, 26, 32, 34, 47, 58, 66, 67, 73, 74, 85, 95,\n",
    "         96, 99, 102, 103, 111, 124, 128, 130, 131, 132, 133, 139, 140, 141, 146, 147, 152, 154,\n",
    "         155, 159, 165, 171, 175, 179, 180, 183, 186, 187, 197, 203, 204, 212, 216, 217, 219, 222,\n",
    "         224, 231, 239, 243, 244, 250, 251, 252, 265, 275, 283, 309, 314, 321, 336, 351, 367, 368,\n",
    "         388, 396, 398, 399, 403, 409, 413, 414, 431, 434, 435, 436, 443, 452, 458, 459, 460, 467,\n",
    "         468, 475, 476, 478, 479, 480, 486, 489, 495, 499, 500, 506, 507, 508, 512, 515, 516, 519,\n",
    "         523, 524, 529, 531, 550, 557, 559, 563, 567, 571, 573, 580, 583, 590, 601, 604, 605, 606,\n",
    "         613, 617, 618, 619, 620, 623, 627, 628, 629]\n",
    "\n",
    "# Select rows based on the index list\n",
    "selected_rows = df.loc[index]\n",
    "\n",
    "# Print the selected rows\n",
    "print(selected_rows)\n"
   ]
  }
 ],
 "metadata": {
  "kernelspec": {
   "display_name": "sensor",
   "language": "python",
   "name": "python3"
  },
  "language_info": {
   "codemirror_mode": {
    "name": "ipython",
    "version": 3
   },
   "file_extension": ".py",
   "mimetype": "text/x-python",
   "name": "python",
   "nbconvert_exporter": "python",
   "pygments_lexer": "ipython3",
   "version": "3.8.18"
  }
 },
 "nbformat": 4,
 "nbformat_minor": 2
}
